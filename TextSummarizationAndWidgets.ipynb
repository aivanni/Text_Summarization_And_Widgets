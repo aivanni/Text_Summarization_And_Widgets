{
 "cells": [
  {
   "cell_type": "code",
   "execution_count": null,
   "metadata": {},
   "outputs": [],
   "source": [
    "!pip install summa"
   ]
  },
  {
   "cell_type": "code",
   "execution_count": 159,
   "metadata": {},
   "outputs": [],
   "source": [
    "def RunAlgo():\n",
    "    import bs4 as bs  \n",
    "    import urllib.request  \n",
    "    import re\n",
    "    import nltk\n",
    "    import logging\n",
    "    logging.basicConfig(format='%(asctime)s : %(levelname)s : %(message)s', level=logging.INFO)\n",
    "    from gensim.summarization import summarize\n",
    "    from gensim.summarization import keywords\n",
    "    from summa import summarizer\n",
    "    from summa import keywords\n",
    "\n",
    "\n",
    "    \n",
    "    url_topull = url.value\n",
    "    #print(\"\\nurl is \",url_topull,\":\\n\")\n",
    "    shrinkval = float(str(shrink.value))\n",
    "    #print(\"\\nshrink is \",type(shrinkval))\n",
    "    print(\"output_model\", output_model.value)\n",
    "    model = output_model.value\n",
    "    if model=='Text Rank':\n",
    "        scraped_data = urllib.request.urlopen(url_topull)  \n",
    "        article = scraped_data.read()\n",
    "\n",
    "        parsed_article = bs.BeautifulSoup(article,'lxml')\n",
    "\n",
    "        paragraphs = parsed_article.find_all('p')\n",
    "\n",
    "        article_text = \"\"\n",
    "\n",
    "        for p in paragraphs:  \n",
    "            article_text += p.text\n",
    "\n",
    "        print(\"Data pull done\")\n",
    "\n",
    "        print(\"==================================SUMMARY===================================\")\n",
    "        print (summarize(article_text,ratio=shrinkval))\n",
    "\n",
    "        print(\"==================================KEYWORDS===================================\")\n",
    "        print (keywords.keywords(article_text,ratio=shrinkval))\n",
    "\n",
    "\n",
    "    else:\n",
    "        scraped_data = urllib.request.urlopen(url_topull)  \n",
    "        article = scraped_data.read()\n",
    "\n",
    "        parsed_article = bs.BeautifulSoup(article,'lxml')\n",
    "\n",
    "        paragraphs = parsed_article.find_all('p')\n",
    "\n",
    "        article_text = \"\"\n",
    "\n",
    "        for p in paragraphs:  \n",
    "            article_text += p.text\n",
    "\n",
    "        print(\"Data pull done\")\n",
    "\n",
    "        print(\"==================================SUMMARY===================================\")\n",
    "        print (summarizer.summarize(article_text,ratio=shrinkval))\n",
    "\n",
    "        print(\"==================================KEYWORDS===================================\")\n",
    "        print (keywords.keywords(article_text,ratio=shrinkval))\n",
    "        \n",
    "    \n",
    "\n",
    "    "
   ]
  },
  {
   "cell_type": "code",
   "execution_count": 160,
   "metadata": {},
   "outputs": [
    {
     "name": "stdout",
     "output_type": "stream",
     "text": [
      "Choose the model you want to use\n"
     ]
    },
    {
     "data": {
      "application/vnd.jupyter.widget-view+json": {
       "model_id": "a81a3f726fe8454ead7e4c2e7f2a83c7",
       "version_major": 2,
       "version_minor": 0
      },
      "text/plain": [
       "interactive(children=(Dropdown(description='Model', options=('Text Rank', 'Summa Summarizer'), value='Text Ran…"
      ]
     },
     "metadata": {},
     "output_type": "display_data"
    },
    {
     "data": {
      "text/plain": [
       "'ENTER THE WIKIPEDIA URL'"
      ]
     },
     "metadata": {},
     "output_type": "display_data"
    },
    {
     "data": {
      "application/vnd.jupyter.widget-view+json": {
       "model_id": "14761a2ae82143cebf98c02fb1bfae03",
       "version_major": 2,
       "version_minor": 0
      },
      "text/plain": [
       "Text(value='')"
      ]
     },
     "metadata": {},
     "output_type": "display_data"
    },
    {
     "data": {
      "text/plain": [
       "'ENTER THE SHRINK RATIO'"
      ]
     },
     "metadata": {},
     "output_type": "display_data"
    },
    {
     "data": {
      "application/vnd.jupyter.widget-view+json": {
       "model_id": "fa26cecd988a4bc892af578751837370",
       "version_major": 2,
       "version_minor": 0
      },
      "text/plain": [
       "Text(value='')"
      ]
     },
     "metadata": {},
     "output_type": "display_data"
    },
    {
     "data": {
      "application/vnd.jupyter.widget-view+json": {
       "model_id": "f0564a8fbe9e4323a1f55dad9f6a714b",
       "version_major": 2,
       "version_minor": 0
      },
      "text/plain": [
       "interactive(children=(Button(description='Run', style=ButtonStyle()), Output()), _dom_classes=('widget-interac…"
      ]
     },
     "metadata": {},
     "output_type": "display_data"
    }
   ],
   "source": [
    "def f(Model):\n",
    "    output_model.value = str(Model)\n",
    "\n",
    "print(\"Choose the model you want to use\")\n",
    "output_model = widgets.Text()\n",
    "interact(f, Model=['Text Rank', 'Summa Summarizer'])\n",
    "url=widgets.Text()\n",
    "display(\"ENTER THE WIKIPEDIA URL\",url)\n",
    "\n",
    "shrink = widgets.Text()\n",
    "display(\"ENTER THE SHRINK RATIO\", shrink)\n",
    "\n",
    "interact_manual.opts['manual_name'] = 'Run'\n",
    "bt = interact_manual(RunAlgo)"
   ]
  },
  {
   "cell_type": "code",
   "execution_count": null,
   "metadata": {},
   "outputs": [],
   "source": []
  }
 ],
 "metadata": {
  "kernelspec": {
   "display_name": "Python 3",
   "language": "python",
   "name": "python3"
  },
  "language_info": {
   "codemirror_mode": {
    "name": "ipython",
    "version": 3
   },
   "file_extension": ".py",
   "mimetype": "text/x-python",
   "name": "python",
   "nbconvert_exporter": "python",
   "pygments_lexer": "ipython3",
   "version": "3.6.5"
  }
 },
 "nbformat": 4,
 "nbformat_minor": 2
}
